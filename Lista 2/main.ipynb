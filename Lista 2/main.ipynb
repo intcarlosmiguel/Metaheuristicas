{
 "cells": [
  {
   "cell_type": "code",
   "execution_count": 1,
   "metadata": {},
   "outputs": [],
   "source": [
    "%load_ext autoreload\n",
    "%autoreload 2"
   ]
  },
  {
   "cell_type": "code",
   "execution_count": 2,
   "metadata": {},
   "outputs": [],
   "source": [
    "\n",
    "import numpy as np\n",
    "import matplotlib.pyplot as plt\n",
    "import random\n",
    "from AG import *"
   ]
  },
  {
   "cell_type": "code",
   "execution_count": 3,
   "metadata": {},
   "outputs": [],
   "source": [
    "def funcao1(x):\n",
    "    return 2*x*x +5*x"
   ]
  },
  {
   "cell_type": "code",
   "execution_count": 4,
   "metadata": {},
   "outputs": [],
   "source": [
    "def torneio(valor,i,check = 'max'):\n",
    "    if(check == 'max'):\n",
    "        return i  if(valor[i]>valor[i+1]) else i+1\n",
    "    if(check == 'min'):\n",
    "        return i  if(valor[i]<valor[i+1]) else i+1"
   ]
  },
  {
   "cell_type": "code",
   "execution_count": 7,
   "metadata": {},
   "outputs": [],
   "source": [
    "def AG_real(samples,funcao,check = 'min'):\n",
    "\n",
    "    # Geração de uma população aleatória\n",
    "    população = np.random.uniform(-100,100,size = samples) \n",
    "\n",
    "    #Acaba quando sobrar apenas 1\n",
    "    for k in range(100):\n",
    "\n",
    "        #Valor da capacidade é definido pela funcao e pela população\n",
    "        capacidade = funcao(população)\n",
    "        print(np.mean(capacidade),np.min(capacidade),k)\n",
    "        #Aleatorizamos as capacidades\n",
    "        rang = np.arange(len(capacidade))\n",
    "        np.random.shuffle(rang)\n",
    "        capacidade = capacidade[rang]\n",
    "        população = população[rang]\n",
    "\n",
    "        #Fazemos o torneio para saber quem é o maior(menor) em pares\n",
    "        resultado = [torneio(capacidade,i,check) for i in range(0,len(capacidade),2)]\n",
    "        #Aqui geramos os Vencedores ou Progenitores\n",
    "        vencedores = população[resultado]\n",
    "        # Geramos os decendentes e esses decendentes serão a nova população\n",
    "\n",
    "        descendentes = []\n",
    "        for i in range(0,len(vencedores),2):\n",
    "            lamb = funcao(vencedores[i])/(funcao(vencedores[i]) + funcao(vencedores[i+1]))\n",
    "            descendentes.append(lamb*vencedores[i] + (1 - lamb)*vencedores[i+1])\n",
    "        \n",
    "        população[np.argsort(capacidade)[::-1]][:len(descendentes)] = descendentes\n",
    "    return população"
   ]
  },
  {
   "cell_type": "code",
   "execution_count": 8,
   "metadata": {},
   "outputs": [
    {
     "name": "stdout",
     "output_type": "stream",
     "text": [
      "6694.188734288837 -3.124711087350153 0\n",
      "1024 512\n",
      "6694.188734288837 -3.124711087350153 1\n",
      "1024 512\n",
      "6694.188734288837 -3.124711087350153 2\n",
      "1024 512\n",
      "6694.188734288837 -3.124711087350153 3\n",
      "1024 512\n",
      "6694.188734288837 -3.124711087350153 4\n",
      "1024 512\n",
      "6694.188734288837 -3.124711087350153 5\n",
      "1024 512\n",
      "6694.188734288837 -3.124711087350153 6\n",
      "1024 512\n",
      "6694.188734288837 -3.124711087350153 7\n",
      "1024 512\n",
      "6694.188734288837 -3.124711087350153 8\n",
      "1024 512\n",
      "6694.188734288837 -3.124711087350153 9\n",
      "1024 512\n",
      "6694.188734288837 -3.124711087350153 10\n",
      "1024 512\n",
      "6694.188734288837 -3.124711087350153 11\n",
      "1024 512\n",
      "6694.188734288837 -3.124711087350153 12\n",
      "1024 512\n",
      "6694.188734288837 -3.124711087350153 13\n",
      "1024 512\n",
      "6694.188734288837 -3.124711087350153 14\n",
      "1024 512\n",
      "6694.188734288837 -3.124711087350153 15\n",
      "1024 512\n",
      "6694.188734288837 -3.124711087350153 16\n",
      "1024 512\n",
      "6694.188734288837 -3.124711087350153 17\n",
      "1024 512\n",
      "6694.188734288837 -3.124711087350153 18\n",
      "1024 512\n",
      "6694.188734288837 -3.124711087350153 19\n",
      "1024 512\n",
      "6694.188734288837 -3.124711087350153 20\n",
      "1024 512\n",
      "6694.188734288836 -3.124711087350153 21\n",
      "1024 512\n",
      "6694.188734288837 -3.124711087350153 22\n",
      "1024 512\n",
      "6694.188734288837 -3.124711087350153 23\n",
      "1024 512\n",
      "6694.188734288837 -3.124711087350153 24\n",
      "1024 512\n",
      "6694.188734288837 -3.124711087350153 25\n",
      "1024 512\n",
      "6694.188734288837 -3.124711087350153 26\n",
      "1024 512\n",
      "6694.188734288837 -3.124711087350153 27\n",
      "1024 512\n",
      "6694.188734288837 -3.124711087350153 28\n",
      "1024 512\n",
      "6694.188734288837 -3.124711087350153 29\n",
      "1024 512\n",
      "6694.188734288837 -3.124711087350153 30\n",
      "1024 512\n",
      "6694.188734288837 -3.124711087350153 31\n",
      "1024 512\n",
      "6694.188734288837 -3.124711087350153 32\n",
      "1024 512\n",
      "6694.188734288837 -3.124711087350153 33\n",
      "1024 512\n",
      "6694.188734288837 -3.124711087350153 34\n",
      "1024 512\n",
      "6694.188734288837 -3.124711087350153 35\n",
      "1024 512\n",
      "6694.188734288837 -3.124711087350153 36\n",
      "1024 512\n",
      "6694.188734288837 -3.124711087350153 37\n",
      "1024 512\n",
      "6694.188734288837 -3.124711087350153 38\n",
      "1024 512\n",
      "6694.188734288837 -3.124711087350153 39\n",
      "1024 512\n",
      "6694.188734288837 -3.124711087350153 40\n",
      "1024 512\n",
      "6694.188734288837 -3.124711087350153 41\n",
      "1024 512\n",
      "6694.188734288837 -3.124711087350153 42\n",
      "1024 512\n",
      "6694.188734288837 -3.124711087350153 43\n",
      "1024 512\n",
      "6694.188734288837 -3.124711087350153 44\n",
      "1024 512\n",
      "6694.188734288836 -3.124711087350153 45\n",
      "1024 512\n",
      "6694.188734288837 -3.124711087350153 46\n",
      "1024 512\n",
      "6694.188734288837 -3.124711087350153 47\n",
      "1024 512\n",
      "6694.188734288837 -3.124711087350153 48\n",
      "1024 512\n",
      "6694.188734288837 -3.124711087350153 49\n",
      "1024 512\n",
      "6694.188734288837 -3.124711087350153 50\n",
      "1024 512\n",
      "6694.188734288837 -3.124711087350153 51\n",
      "1024 512\n",
      "6694.188734288837 -3.124711087350153 52\n",
      "1024 512\n",
      "6694.188734288837 -3.124711087350153 53\n",
      "1024 512\n",
      "6694.188734288837 -3.124711087350153 54\n",
      "1024 512\n",
      "6694.188734288837 -3.124711087350153 55\n",
      "1024 512\n",
      "6694.188734288837 -3.124711087350153 56\n",
      "1024 512\n",
      "6694.188734288837 -3.124711087350153 57\n",
      "1024 512\n",
      "6694.188734288837 -3.124711087350153 58\n",
      "1024 512\n",
      "6694.188734288837 -3.124711087350153 59\n",
      "1024 512\n",
      "6694.188734288837 -3.124711087350153 60\n",
      "1024 512\n",
      "6694.188734288837 -3.124711087350153 61\n",
      "1024 512\n",
      "6694.188734288837 -3.124711087350153 62\n",
      "1024 512\n",
      "6694.188734288837 -3.124711087350153 63\n",
      "1024 512\n",
      "6694.188734288837 -3.124711087350153 64\n",
      "1024 512\n",
      "6694.188734288837 -3.124711087350153 65\n",
      "1024 512\n",
      "6694.188734288837 -3.124711087350153 66\n",
      "1024 512\n",
      "6694.188734288837 -3.124711087350153 67\n",
      "1024 512\n",
      "6694.188734288837 -3.124711087350153 68\n",
      "1024 512\n",
      "6694.188734288837 -3.124711087350153 69\n",
      "1024 512\n",
      "6694.188734288837 -3.124711087350153 70\n",
      "1024 512\n",
      "6694.188734288837 -3.124711087350153 71\n",
      "1024 512\n",
      "6694.188734288836 -3.124711087350153 72\n",
      "1024 512\n",
      "6694.188734288837 -3.124711087350153 73\n",
      "1024 512\n",
      "6694.188734288837 -3.124711087350153 74\n",
      "1024 512\n",
      "6694.188734288837 -3.124711087350153 75\n",
      "1024 512\n",
      "6694.188734288837 -3.124711087350153 76\n",
      "1024 512\n",
      "6694.188734288837 -3.124711087350153 77\n",
      "1024 512\n",
      "6694.188734288837 -3.124711087350153 78\n",
      "1024 512\n",
      "6694.188734288837 -3.124711087350153 79\n",
      "1024 512\n",
      "6694.188734288837 -3.124711087350153 80\n",
      "1024 512\n",
      "6694.188734288837 -3.124711087350153 81\n",
      "1024 512\n",
      "6694.188734288837 -3.124711087350153 82\n",
      "1024 512\n",
      "6694.188734288837 -3.124711087350153 83\n",
      "1024 512\n",
      "6694.188734288837 -3.124711087350153 84\n",
      "1024 512\n",
      "6694.188734288837 -3.124711087350153 85\n",
      "1024 512\n",
      "6694.188734288837 -3.124711087350153 86\n",
      "1024 512\n",
      "6694.188734288837 -3.124711087350153 87\n",
      "1024 512\n",
      "6694.188734288837 -3.124711087350153 88\n",
      "1024 512\n",
      "6694.188734288837 -3.124711087350153 89\n",
      "1024 512\n",
      "6694.188734288837 -3.124711087350153 90\n",
      "1024 512\n",
      "6694.188734288837 -3.124711087350153 91\n",
      "1024 512\n",
      "6694.188734288837 -3.124711087350153 92\n",
      "1024 512\n",
      "6694.188734288837 -3.124711087350153 93\n",
      "1024 512\n",
      "6694.188734288837 -3.124711087350153 94\n",
      "1024 512\n",
      "6694.188734288837 -3.124711087350153 95\n",
      "1024 512\n",
      "6694.188734288837 -3.124711087350153 96\n",
      "1024 512\n",
      "6694.188734288837 -3.124711087350153 97\n",
      "1024 512\n",
      "6694.188734288837 -3.124711087350153 98\n",
      "1024 512\n",
      "6694.188734288837 -3.124711087350153 99\n",
      "1024 512\n"
     ]
    }
   ],
   "source": [
    "valor = AG_real(1024,funcao1,'min')"
   ]
  },
  {
   "cell_type": "code",
   "execution_count": 197,
   "metadata": {},
   "outputs": [],
   "source": [
    "erro = []\n",
    "for i in range(0,100):\n",
    "    lamb = i/100\n",
    "    valor = np.array([AG_real(2048,lamb,funcao1,'min') for i in range(100)])\n",
    "    erro.append([lamb,abs(np.mean(valor) - (-5/4))])\n",
    "erro = np.array(erro)"
   ]
  },
  {
   "cell_type": "code",
   "execution_count": 15,
   "metadata": {},
   "outputs": [],
   "source": [
    "menor_erro = erro.T[0][erro.T[1] == np.min(erro.T[1])][0]"
   ]
  },
  {
   "cell_type": "code",
   "execution_count": 16,
   "metadata": {},
   "outputs": [
    {
     "data": {
      "image/png": "[encoded data removed]",
      "text/plain": [
       "<Figure size 640x480 with 1 Axes>"
      ]
     },
     "metadata": {},
     "output_type": "display_data"
    }
   ],
   "source": [
    "plt.scatter(erro.T[0],erro.T[1])\n",
    "plt.grid()\n",
    "plt.scatter(menor_erro,erro.T[1][erro.T[0] == menor_erro], c= 'red', label = 'Menor Erro')\n",
    "plt.ylabel('Erro')\n",
    "plt.xlabel('Lambda')\n",
    "plt.legend()\n",
    "plt.savefig('./erro_real.png')\n",
    "plt.show()"
   ]
  },
  {
   "cell_type": "code",
   "execution_count": 5,
   "metadata": {},
   "outputs": [],
   "source": [
    "def KPS(x,V,P):\n",
    "    return np.dot(x,V),np.dot(x,P)"
   ]
  },
  {
   "attachments": {},
   "cell_type": "markdown",
   "metadata": {},
   "source": [
    "https://www.kaggle.com/datasets/binhthanhdang/dkpdataset?select=idkp1.txt"
   ]
  },
  {
   "cell_type": "code",
   "execution_count": 182,
   "metadata": {},
   "outputs": [],
   "source": [
    "teste = np.loadtxt('./archive/idkp1.txt',dtype=str)\n",
    "teste = [i.split(',') if(',' in i) else int(i) for i in teste]\n",
    "Mochila = teste[0]\n",
    "Peso = np.array(teste[1], dtype=int)\n",
    "Valor = np.array(teste[2], dtype=int)"
   ]
  },
  {
   "cell_type": "code",
   "execution_count": 77,
   "metadata": {},
   "outputs": [],
   "source": [
    "Mochila = 35\n",
    "Peso = np.array([10,18,12,14,13,11,8,6])\n",
    "Valor = np.array([5,8,7,6,9,5,4,3])"
   ]
  },
  {
   "cell_type": "code",
   "execution_count": 174,
   "metadata": {},
   "outputs": [],
   "source": [
    "def AG_KPS(Valor,Peso,Mochila,tipo_geração,tipo_descendente,tipo_att):\n",
    "    Q = []\n",
    "    Tempo = []\n",
    "    população = generate_população(Valor,Peso,Mochila,tipo_geração)\n",
    "    for t in range(1000):\n",
    "        Qualidade,Peso_Total = KPS(população,Valor,Peso)\n",
    "        Q.append([np.mean(Qualidade),np.max(Qualidade)])\n",
    "        Tempo.append(t)\n",
    "        if(np.mean(Qualidade) == np.max(Qualidade)):\n",
    "            return população[0],np.array(Q),np.array(Tempo)\n",
    "        if(tipo_geração == 'aleatorio'):\n",
    "            Penalidade = Valor/Peso\n",
    "\n",
    "            Qualidade[Peso_Total > Mochila] = Qualidade[Peso_Total > Mochila] - Penalidade[Peso_Total > Mochila]*(Peso_Total[Peso_Total > Mochila] - Mochila)\n",
    "        \n",
    "        rang = np.arange(len(Qualidade))\n",
    "        np.random.shuffle(rang)\n",
    "        Qualidade = Qualidade[rang]\n",
    "        população = população[rang]\n",
    "\n",
    "        resultado = [torneio(Qualidade,i,'max') for i in range(0,len(Qualidade),2)]\n",
    "        vencedores = população[resultado]\n",
    "        \n",
    "        descendentes = Cruzamento(vencedores,Valor,Peso, Mochila,tipo_descendente)\n",
    "        população = Atualização(população,descendentes,Valor,Peso,Mochila,tipo_att)\n",
    "    Qualidade,Peso_Total = KPS(população,Valor,Peso)\n",
    "\n",
    "    return população[np.max(Qualidade) == Qualidade],np.array(Q),np.array(Tempo)"
   ]
  },
  {
   "cell_type": "code",
   "execution_count": 195,
   "metadata": {},
   "outputs": [
    {
     "name": "stdout",
     "output_type": "stream",
     "text": [
      "[1 0 0 1 1 1 0 0 1 0 1 0 1 1 0 1 0 0 0 1 0 1 0 0 1 0 0 1 0 0 1 0 0 1 0 0 1\n",
      " 0 0 1 1 0 0 0 0 1 0 0 1 1 1 1 1 0 0 0 1 1 0 0 1 0 1 1 0 1 1 0 1 0 0 1 1 0\n",
      " 0 0 1 1 0 1 0 1 0 0 0 1 0 1 0 0 0 1 0 1 1 0 1 0 1 1 1 1 0 1 0 1 1 1 1 1 0\n",
      " 1 1 0 0 0 0 1 1 1 1 0 0 1 0 0 1 0 0 1 1 0 1 0 0 1 0 0 1 1 0 1 0 1 1 0 1 1\n",
      " 0 0 1 1 1 1 0 0 0 0 0 0 1 0 1 0 0 0 1 0 0 1 0 0 1 0 1 0 0 1 1 0 1 1 1 0 1\n",
      " 1 0 0 0 0 0 0 1 1 0 0 0 0 1 0 0 0 0 0 0 1 0 0 1 0 1 0 0 1 1 0 1 1 0 1 0 1\n",
      " 0 0 0 1 0 0 0 1 1 1 0 0 0 0 0 0 0 0 1 0 0 0 1 0 1 1 0 1 0 0 1 0 0 0 1 0 1\n",
      " 1 0 0 0 0 0 0 0 1 1 0 0 0 0 1 0 0 0 0 0 1 1 1 1 1 0 1 1 1 1 0 0 1 0 0 1 0\n",
      " 1 0 1 0]\n"
     ]
    },
    {
     "data": {
      "image/png": "[encoded data removed]",
      "text/plain": [
       "<Figure size 640x480 with 1 Axes>"
      ]
     },
     "metadata": {},
     "output_type": "display_data"
    }
   ],
   "source": [
    "Solução,Q,Tempo = AG_KPS(Valor,Peso,Mochila,'baseado','probabilistico','incremental')\n",
    "print(Solução)\n",
    "plt.plot(Tempo,Q.T[0],c = 'navy',label = 'Média das Aptidões das Soluções')\n",
    "plt.plot(Tempo,Q.T[1],c = 'red',label = 'Maior Aptidão das Soluções')\n",
    "plt.grid()\n",
    "plt.show()"
   ]
  },
  {
   "cell_type": "code",
   "execution_count": 193,
   "metadata": {},
   "outputs": [
    {
     "data": {
      "text/plain": [
       "(75079, 61479)"
      ]
     },
     "execution_count": 193,
     "metadata": {},
     "output_type": "execute_result"
    }
   ],
   "source": [
    "KPS(Solução,Valor,Peso)"
   ]
  },
  {
   "cell_type": "code",
   "execution_count": 194,
   "metadata": {},
   "outputs": [
    {
     "name": "stdout",
     "output_type": "stream",
     "text": [
      "Objetivo:  78608.77273612842\n",
      "Itens na mochila:  [1, 4, 6, 7, 9, 10, 11, 16, 19, 20, 22, 23, 25, 31, 32, 34, 37, 38, 43, 46, 47, 49, 51, 52, 53, 55, 56, 57, 58, 61, 62, 64, 65, 66, 67, 69, 70, 73, 76, 77, 82, 85, 88, 89, 91, 93, 94, 95, 97, 98, 99, 100, 101, 103, 106, 107, 109, 110, 115, 116, 118, 119, 121, 124, 127, 128, 130, 131, 133, 135, 136, 137, 139, 140, 141, 142, 143, 144, 145, 147, 148, 151, 152, 153, 154, 160, 161, 163, 166, 167, 168, 169, 170, 171, 172, 175, 178, 181, 182, 184, 185, 186, 187, 188, 193, 199, 200, 205, 208, 211, 214, 215, 217, 220, 221, 222, 223, 226, 228, 229, 230, 231, 232, 233, 235, 236, 238, 239, 241, 244, 247, 248, 250, 253, 256, 257, 259, 262, 265, 266, 271, 274, 275, 277, 280, 281, 282, 283, 284, 286, 287, 288, 292, 293, 295, 296, 297, 298, 299]\n"
     ]
    }
   ],
   "source": [
    "KPSresposta(Valor, Peso, Mochila)"
   ]
  },
  {
   "cell_type": "code",
   "execution_count": 190,
   "metadata": {},
   "outputs": [
    {
     "data": {
      "text/plain": [
       "array([1, 0, 0, 1, 0, 1, 1, 0, 1, 0, 1, 0, 1, 1, 1, 0, 1, 0, 0, 0, 0, 1,\n",
       "       1, 0, 1, 0, 0, 0, 0, 0, 1, 0, 0, 0, 1, 0, 0, 1, 0, 1, 1, 0, 0, 1,\n",
       "       0, 1, 1, 0, 0, 0, 1, 1, 0, 0, 1, 1, 1, 1, 0, 0, 1, 0, 0, 1, 1, 1,\n",
       "       1, 1, 1, 1, 1, 0, 1, 0, 0, 0, 0, 0, 0, 1, 0, 1, 0, 0, 0, 0, 0, 1,\n",
       "       0, 0, 1, 1, 0, 0, 1, 0, 1, 1, 1, 1, 1, 0, 1, 1, 0, 0, 0, 0, 1, 0,\n",
       "       0, 0, 0, 0, 1, 0, 0, 1, 0, 0, 0, 0, 0, 0, 1, 0, 1, 0, 0, 0, 0, 0,\n",
       "       0, 1, 0, 1, 0, 0, 1, 0, 1, 1, 0, 1, 1, 1, 1, 1, 0, 0, 1, 1, 1, 1,\n",
       "       0, 0, 1, 1, 0, 0, 0, 0, 1, 0, 0, 1, 1, 1, 1, 1, 0, 1, 0, 0, 0, 1,\n",
       "       0, 0, 0, 0, 0, 1, 0, 1, 1, 0, 1, 0, 0, 0, 1, 0, 1, 0, 0, 0, 0, 0,\n",
       "       0, 1, 0, 0, 0, 0, 1, 0, 0, 1, 0, 0, 0, 0, 0, 0, 0, 0, 0, 1, 0, 1,\n",
       "       0, 1, 1, 0, 0, 0, 0, 1, 1, 1, 1, 0, 1, 0, 0, 0, 0, 1, 1, 0, 0, 0,\n",
       "       0, 1, 1, 1, 1, 0, 0, 1, 0, 0, 1, 1, 0, 0, 1, 0, 1, 0, 0, 0, 0, 0,\n",
       "       0, 1, 0, 0, 0, 0, 0, 1, 0, 0, 1, 0, 0, 1, 0, 0, 0, 1, 0, 1, 0, 0,\n",
       "       0, 1, 1, 1, 0, 1, 1, 0, 1, 1, 1, 1, 1, 0])"
      ]
     },
     "execution_count": 190,
     "metadata": {},
     "output_type": "execute_result"
    }
   ],
   "source": [
    "Solução"
   ]
  },
  {
   "cell_type": "code",
   "execution_count": 155,
   "metadata": {},
   "outputs": [
    {
     "data": {
      "text/plain": [
       "array([[14.578125, 20.      ],\n",
       "       [14.765625, 20.      ],\n",
       "       [14.921875, 20.      ],\n",
       "       [15.09375 , 20.      ],\n",
       "       [15.1875  , 20.      ],\n",
       "       [15.328125, 20.      ],\n",
       "       [15.4375  , 20.      ],\n",
       "       [15.5625  , 20.      ],\n",
       "       [15.6875  , 20.      ],\n",
       "       [15.8125  , 20.      ],\n",
       "       [15.921875, 20.      ],\n",
       "       [16.      , 20.      ],\n",
       "       [16.109375, 20.      ],\n",
       "       [16.21875 , 20.      ],\n",
       "       [16.328125, 20.      ],\n",
       "       [16.4375  , 20.      ],\n",
       "       [16.546875, 20.      ],\n",
       "       [16.65625 , 20.      ],\n",
       "       [16.765625, 20.      ],\n",
       "       [16.859375, 20.      ],\n",
       "       [16.953125, 20.      ],\n",
       "       [17.046875, 20.      ],\n",
       "       [17.140625, 20.      ],\n",
       "       [17.234375, 20.      ],\n",
       "       [17.328125, 20.      ],\n",
       "       [17.421875, 20.      ],\n",
       "       [17.515625, 20.      ],\n",
       "       [17.609375, 20.      ],\n",
       "       [17.703125, 20.      ],\n",
       "       [17.796875, 20.      ],\n",
       "       [17.875   , 20.      ],\n",
       "       [17.953125, 20.      ],\n",
       "       [18.03125 , 20.      ],\n",
       "       [18.109375, 20.      ],\n",
       "       [18.1875  , 20.      ],\n",
       "       [18.265625, 20.      ],\n",
       "       [18.34375 , 20.      ],\n",
       "       [18.421875, 20.      ],\n",
       "       [18.5     , 20.      ],\n",
       "       [18.578125, 20.      ],\n",
       "       [18.65625 , 20.      ],\n",
       "       [18.71875 , 20.      ],\n",
       "       [18.78125 , 20.      ],\n",
       "       [18.84375 , 20.      ],\n",
       "       [18.90625 , 20.      ],\n",
       "       [18.96875 , 20.      ],\n",
       "       [19.03125 , 20.      ],\n",
       "       [19.09375 , 20.      ],\n",
       "       [19.15625 , 20.      ],\n",
       "       [19.21875 , 20.      ],\n",
       "       [19.28125 , 20.      ],\n",
       "       [19.328125, 20.      ],\n",
       "       [19.375   , 20.      ],\n",
       "       [19.421875, 20.      ],\n",
       "       [19.46875 , 20.      ],\n",
       "       [19.515625, 20.      ],\n",
       "       [19.5625  , 20.      ],\n",
       "       [19.609375, 20.      ],\n",
       "       [19.65625 , 20.      ],\n",
       "       [19.703125, 20.      ],\n",
       "       [19.75    , 20.      ],\n",
       "       [19.796875, 20.      ],\n",
       "       [19.828125, 20.      ],\n",
       "       [19.859375, 20.      ],\n",
       "       [19.890625, 20.      ],\n",
       "       [19.921875, 20.      ],\n",
       "       [19.953125, 20.      ],\n",
       "       [19.984375, 20.      ],\n",
       "       [20.      , 20.      ]])"
      ]
     },
     "execution_count": 155,
     "metadata": {},
     "output_type": "execute_result"
    }
   ],
   "source": [
    "Q"
   ]
  }
 ],
 "metadata": {
  "kernelspec": {
   "display_name": "Python 3",
   "language": "python",
   "name": "python3"
  },
  "language_info": {
   "codemirror_mode": {
    "name": "ipython",
    "version": 3
   },
   "file_extension": ".py",
   "mimetype": "text/x-python",
   "name": "python",
   "nbconvert_exporter": "python",
   "pygments_lexer": "ipython3",
   "version": "3.10.6"
  },
  "orig_nbformat": 4
 },
 "nbformat": 4,
 "nbformat_minor": 2
}
