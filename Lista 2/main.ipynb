{
 "cells": [
  {
   "attachments": {},
   "cell_type": "markdown",
   "metadata": {},
   "source": [
    "# Lista 2 - Algoritmos Genéticos"
   ]
  },
  {
   "attachments": {},
   "cell_type": "markdown",
   "metadata": {},
   "source": [
    "#### 1. Defina o conceito de algoritmo genético, apresentando suas vantagens e desvantagens\n",
    "\n",
    "Algoritmos Genéticos (AGs) são algoritmos inspirados na Teoria da Evolução de Darwin. Ela é fundamentada que o crescimento das espécies é maior do que de recursos para sobreviver, por isso para que uma espécie consiga sobreviver é necessário que fiquem apenas os mais aptos àquele ambiente. Nesse sentido, os AGs são algoritmos que irão gerar várias soluções e com o passar do tempo sobrarão apenas as melhores."
   ]
  },
  {
   "attachments": {},
   "cell_type": "markdown",
   "metadata": {},
   "source": [
    "#### 2. Discorra sobre os conceitos a seguir:\n",
    "\n",
    "1. diversificação e intensificação;\n",
    "\n",
    "Diversificação e Intensificação são fatores importantes na Teoria da Evolução e nos AGs. No primeiro a diversificação de indivíduos é importante tanto para encontrar diferentes habilidades para sobreviver ao ambiente e possivelmente encontrar a melhor, além de que se os indivíduos forem muito parecidos seria muito fácil combater a espécie. Já no quesito de intensificação, quando achamos a melhor habilidade para sobrevivência, então é necessário que o portador se reproduza mais e mais para compartilhar com a espécie. \n",
    "\n",
    "No segundo caso diversificação significa que vamos procurar em diferentes lugares do nosso espaço de busca do algoritmo para procurarmos o mínimo (máximo) global e a intensificação significa que ao encontrar regiões promissores, procuramos com mais afinco nessa região.\n",
    "\n",
    "2. paralelismo explícito e paralelismo implícito;\n",
    "\n",
    "O paralelismo explícito refere-se ao fato de conseguirmos vasculhar vários conjuntos de soluções no espaço de busca procurando a melhor. O paralelismo implícito refere-se ao fato de conseguirmos encontrar blocos de soluções ótimas.\n",
    "\n",
    "3. cromossomo, gene, alelo, lócus, genótipo, fenótipo e epístase;\n",
    "\n",
    "Cromossomo: é a unidade básica de hereditariedade que carrega informações genéticas. No contexto dos algoritmos genéticos, um cromossomo é uma sequência de genes que representa uma solução candidata para o problema em questão.\n",
    "\n",
    "Gene: é uma sequência de DNA que contém as informações genéticas para uma característica específica. No contexto dos algoritmos genéticos, um gene é uma parte do cromossomo que codifica uma característica da solução, como o valor ou o peso de um item na mochila.\n",
    "\n",
    "Alelo: é uma variante de um gene que pode ocorrer em um mesmo lócus. Por exemplo, um alelo para o gene que codifica a cor dos olhos pode ser azul ou castanho.\n",
    "\n",
    "Lócus: é o local físico no cromossomo onde um gene está localizado. Por exemplo, o lócus que codifica a cor dos olhos pode estar localizado no braço longo do cromossomo 15.\n",
    "\n",
    "Genótipo: é o conjunto completo de genes e alelos que uma solução candidata contém. No contexto dos algoritmos genéticos, o genótipo representa a informação genética completa de um indivíduo na população.\n",
    "\n",
    "Fenótipo: é a expressão física ou observável de um genótipo. No contexto dos algoritmos genéticos, o fenótipo representa a solução candidata correspondente ao genótipo.\n",
    "\n",
    "Epístase: é uma interação entre genes que afeta a expressão fenotípica. No contexto dos algoritmos genéticos, a epístase pode afetar a eficácia das operações de cruzamento e mutação, uma vez que a mudança em um gene pode afetar a expressão de outros genes. Por exemplo, se o gene que codifica o peso de um item na mochila estiver epistaticamente ligado ao gene que codifica o valor do item, uma mudança no peso pode afetar a utilidade geral da solução.\n",
    "\n",
    "4. codificação;\n",
    "\n",
    "A codificação é a transcrição do problema para o algoritmo, é a forma como você vai representar seu problema no algoritmo e quais serão os operadores a serem utilizados.\n",
    "\n",
    "5. elitismo;\n",
    "\n",
    "O elitismo refere-se ao fato de que manteremos as melhores soluções geradas com o passar do AG.\n",
    "\n",
    "6. estratégias geracional e incremental\n",
    "\n",
    "As estratégias geracionais e incrementais são dois modelos de atualização de população em algoritmos genéticos. Na estratégia geracional, uma população é gerada em cada geração, substituindo completamente a população anterior. Na etapa de reprodução, os indivíduos são selecionados com base em seu desempenho na função objetivo e são cruzados para gerar uma nova geração de indivíduos A estratégia incremental, por outro lado, a população é atualizada gradualmente, mantendo alguns dos indivíduos da geração anterior e adicionando novos indivíduos gerados a partir dos pais selecionados na etapa de reprodução.\n",
    "\n"
   ]
  },
  {
   "cell_type": "code",
   "execution_count": 1,
   "metadata": {},
   "outputs": [],
   "source": [
    "%load_ext autoreload\n",
    "%autoreload 2"
   ]
  },
  {
   "cell_type": "code",
   "execution_count": 2,
   "metadata": {},
   "outputs": [],
   "source": [
    "\n",
    "import numpy as np\n",
    "import matplotlib.pyplot as plt\n",
    "import random\n",
    "from AG import *"
   ]
  },
  {
   "cell_type": "code",
   "execution_count": 3,
   "metadata": {},
   "outputs": [],
   "source": [
    "def funcao1(x):\n",
    "    return 2*x*x +5*x"
   ]
  },
  {
   "cell_type": "code",
   "execution_count": 11,
   "metadata": {},
   "outputs": [],
   "source": [
    "def torneio(valor,i,check = 'max'):\n",
    "    if(check == 'max'):\n",
    "        return i  if(valor[i]>valor[i+1]) else i+1\n",
    "    if(check == 'min'):\n",
    "        return i  if(valor[i]<valor[i+1]) else i+1"
   ]
  },
  {
   "cell_type": "code",
   "execution_count": 10,
   "metadata": {},
   "outputs": [],
   "source": [
    "def AG_real(samples,funcao,check = 'min'):\n",
    "\n",
    "    # Geração de uma população aleatória\n",
    "    população = np.random.uniform(-100,100,size = samples) \n",
    "\n",
    "    #Acaba quando sobrar apenas 1\n",
    "    for k in range(100):\n",
    "\n",
    "        #Valor da capacidade é definido pela funcao e pela população\n",
    "        capacidade = funcao(população)\n",
    "        print(np.mean(capacidade),np.min(capacidade),k)\n",
    "        #Aleatorizamos as capacidades\n",
    "        rang = np.arange(len(capacidade))\n",
    "        np.random.shuffle(rang)\n",
    "        capacidade = capacidade[rang]\n",
    "        população = população[rang]\n",
    "\n",
    "        #Fazemos o torneio para saber quem é o maior(menor) em pares\n",
    "        resultado = [torneio(capacidade,i,check) for i in range(0,len(capacidade),2)]\n",
    "        #Aqui geramos os Vencedores ou Progenitores\n",
    "        vencedores = população[resultado]\n",
    "        # Geramos os decendentes e esses decendentes serão a nova população\n",
    "\n",
    "        descendentes = []\n",
    "        for i in range(0,len(vencedores),2):\n",
    "            lamb = funcao(vencedores[i])/(funcao(vencedores[i]) + funcao(vencedores[i+1]))\n",
    "            descendentes.append(lamb*vencedores[i] + (1 - lamb)*vencedores[i+1])\n",
    "        \n",
    "        população[np.argsort(capacidade)[::-1]][:len(descendentes)] = descendentes\n",
    "    return população"
   ]
  },
  {
   "cell_type": "code",
   "execution_count": 11,
   "metadata": {},
   "outputs": [
    {
     "name": "stdout",
     "output_type": "stream",
     "text": [
      "6706.298178571569 -3.122627393150711 0\n",
      "6706.298178571569 -3.122627393150711 1\n",
      "6706.298178571569 -3.122627393150711 2\n",
      "6706.298178571569 -3.122627393150711 3\n",
      "6706.298178571569 -3.122627393150711 4\n",
      "6706.298178571569 -3.122627393150711 5\n",
      "6706.298178571569 -3.122627393150711 6\n",
      "6706.298178571569 -3.122627393150711 7\n",
      "6706.298178571569 -3.122627393150711 8\n",
      "6706.298178571569 -3.122627393150711 9\n",
      "6706.298178571569 -3.122627393150711 10\n",
      "6706.298178571569 -3.122627393150711 11\n",
      "6706.298178571569 -3.122627393150711 12\n",
      "6706.298178571569 -3.122627393150711 13\n",
      "6706.298178571569 -3.122627393150711 14\n",
      "6706.298178571569 -3.122627393150711 15\n",
      "6706.298178571569 -3.122627393150711 16\n",
      "6706.298178571569 -3.122627393150711 17\n",
      "6706.298178571569 -3.122627393150711 18\n",
      "6706.298178571569 -3.122627393150711 19\n",
      "6706.298178571569 -3.122627393150711 20\n",
      "6706.298178571569 -3.122627393150711 21\n",
      "6706.298178571569 -3.122627393150711 22\n",
      "6706.298178571569 -3.122627393150711 23\n",
      "6706.298178571569 -3.122627393150711 24\n",
      "6706.298178571569 -3.122627393150711 25\n",
      "6706.298178571569 -3.122627393150711 26\n",
      "6706.298178571569 -3.122627393150711 27\n",
      "6706.298178571569 -3.122627393150711 28\n",
      "6706.298178571569 -3.122627393150711 29\n",
      "6706.298178571569 -3.122627393150711 30\n",
      "6706.298178571569 -3.122627393150711 31\n",
      "6706.298178571569 -3.122627393150711 32\n",
      "6706.298178571569 -3.122627393150711 33\n",
      "6706.298178571569 -3.122627393150711 34\n",
      "6706.298178571569 -3.122627393150711 35\n",
      "6706.298178571569 -3.122627393150711 36\n",
      "6706.298178571569 -3.122627393150711 37\n",
      "6706.298178571569 -3.122627393150711 38\n",
      "6706.298178571569 -3.122627393150711 39\n",
      "6706.298178571569 -3.122627393150711 40\n",
      "6706.298178571569 -3.122627393150711 41\n",
      "6706.298178571569 -3.122627393150711 42\n",
      "6706.298178571569 -3.122627393150711 43\n",
      "6706.298178571569 -3.122627393150711 44\n",
      "6706.298178571569 -3.122627393150711 45\n",
      "6706.298178571569 -3.122627393150711 46\n",
      "6706.298178571569 -3.122627393150711 47\n",
      "6706.298178571569 -3.122627393150711 48\n",
      "6706.298178571568 -3.122627393150711 49\n",
      "6706.298178571569 -3.122627393150711 50\n",
      "6706.298178571569 -3.122627393150711 51\n",
      "6706.298178571569 -3.122627393150711 52\n",
      "6706.298178571569 -3.122627393150711 53\n",
      "6706.298178571569 -3.122627393150711 54\n",
      "6706.298178571569 -3.122627393150711 55\n",
      "6706.298178571569 -3.122627393150711 56\n",
      "6706.298178571569 -3.122627393150711 57\n",
      "6706.298178571569 -3.122627393150711 58\n",
      "6706.298178571569 -3.122627393150711 59\n",
      "6706.298178571569 -3.122627393150711 60\n",
      "6706.298178571569 -3.122627393150711 61\n",
      "6706.298178571569 -3.122627393150711 62\n",
      "6706.298178571569 -3.122627393150711 63\n",
      "6706.298178571569 -3.122627393150711 64\n",
      "6706.298178571569 -3.122627393150711 65\n",
      "6706.298178571569 -3.122627393150711 66\n",
      "6706.298178571569 -3.122627393150711 67\n",
      "6706.298178571569 -3.122627393150711 68\n",
      "6706.298178571569 -3.122627393150711 69\n",
      "6706.298178571568 -3.122627393150711 70\n",
      "6706.298178571569 -3.122627393150711 71\n",
      "6706.298178571569 -3.122627393150711 72\n",
      "6706.298178571569 -3.122627393150711 73\n",
      "6706.298178571569 -3.122627393150711 74\n",
      "6706.298178571569 -3.122627393150711 75\n",
      "6706.298178571569 -3.122627393150711 76\n",
      "6706.298178571569 -3.122627393150711 77\n",
      "6706.298178571569 -3.122627393150711 78\n",
      "6706.298178571569 -3.122627393150711 79\n",
      "6706.298178571569 -3.122627393150711 80\n",
      "6706.298178571569 -3.122627393150711 81\n",
      "6706.298178571569 -3.122627393150711 82\n",
      "6706.298178571569 -3.122627393150711 83\n",
      "6706.298178571569 -3.122627393150711 84\n",
      "6706.298178571569 -3.122627393150711 85\n",
      "6706.298178571569 -3.122627393150711 86\n",
      "6706.298178571569 -3.122627393150711 87\n",
      "6706.298178571569 -3.122627393150711 88\n",
      "6706.298178571569 -3.122627393150711 89\n",
      "6706.298178571569 -3.122627393150711 90\n",
      "6706.298178571569 -3.122627393150711 91\n",
      "6706.29817857157 -3.122627393150711 92\n",
      "6706.298178571569 -3.122627393150711 93\n",
      "6706.298178571569 -3.122627393150711 94\n",
      "6706.298178571569 -3.122627393150711 95\n",
      "6706.298178571569 -3.122627393150711 96\n",
      "6706.298178571569 -3.122627393150711 97\n",
      "6706.298178571569 -3.122627393150711 98\n",
      "6706.298178571569 -3.122627393150711 99\n"
     ]
    }
   ],
   "source": [
    "valor = AG_real(1024,funcao1,'min')"
   ]
  },
  {
   "cell_type": "code",
   "execution_count": 197,
   "metadata": {},
   "outputs": [],
   "source": [
    "erro = []\n",
    "for i in range(0,100):\n",
    "    lamb = i/100\n",
    "    valor = np.array([AG_real(2048,lamb,funcao1,'min') for i in range(100)])\n",
    "    erro.append([lamb,abs(np.mean(valor) - (-5/4))])\n",
    "erro = np.array(erro)"
   ]
  },
  {
   "cell_type": "code",
   "execution_count": 15,
   "metadata": {},
   "outputs": [],
   "source": [
    "menor_erro = erro.T[0][erro.T[1] == np.min(erro.T[1])][0]"
   ]
  },
  {
   "cell_type": "code",
   "execution_count": 16,
   "metadata": {},
   "outputs": [
    {
     "data": {
      "image/png": "[encoded data removed]",
      "text/plain": [
       "<Figure size 640x480 with 1 Axes>"
      ]
     },
     "metadata": {},
     "output_type": "display_data"
    }
   ],
   "source": [
    "plt.scatter(erro.T[0],erro.T[1])\n",
    "plt.grid()\n",
    "plt.scatter(menor_erro,erro.T[1][erro.T[0] == menor_erro], c= 'red', label = 'Menor Erro')\n",
    "plt.ylabel('Erro')\n",
    "plt.xlabel('Lambda')\n",
    "plt.legend()\n",
    "plt.savefig('./erro_real.png')\n",
    "plt.show()"
   ]
  },
  {
   "attachments": {},
   "cell_type": "markdown",
   "metadata": {},
   "source": [
    "https://www.kaggle.com/datasets/binhthanhdang/dkpdataset?select=idkp1.txt"
   ]
  },
  {
   "cell_type": "code",
   "execution_count": 182,
   "metadata": {},
   "outputs": [],
   "source": [
    "teste = np.loadtxt('./archive/idkp1.txt',dtype=str)\n",
    "teste = [i.split(',') if(',' in i) else int(i) for i in teste]\n",
    "Mochila = teste[0]\n",
    "Peso = np.array(teste[1], dtype=int)\n",
    "Valor = np.array(teste[2], dtype=int)"
   ]
  },
  {
   "cell_type": "code",
   "execution_count": 3,
   "metadata": {},
   "outputs": [],
   "source": [
    "Mochila = 35\n",
    "Peso = np.array([10,18,12,14,13,11,8,6])\n",
    "Valor = np.array([5,8,7,6,9,5,4,3])"
   ]
  },
  {
   "cell_type": "code",
   "execution_count": 28,
   "metadata": {},
   "outputs": [],
   "source": [
    "def AG_KPS(Valor,Peso,Mochila,tipo_geração,tipo_descendente,tipo_att):\n",
    "    Q = []\n",
    "    Tempo = []\n",
    "    população = generate_população(Valor,Peso,Mochila,tipo_geração)\n",
    "    for t in range(1000):\n",
    "        Qualidade,Peso_Total = KPS(população,Valor,Peso)\n",
    "        Q.append([np.mean(Qualidade),np.max(Qualidade)])\n",
    "        Tempo.append(t)\n",
    "        if(np.mean(Qualidade) == np.max(Qualidade)):\n",
    "            return população[0],np.array(Q),np.array(Tempo)\n",
    "        if(tipo_geração == 'aleatorio'):\n",
    "            Penalidade = np.max(Valor/Peso)\n",
    "            Qualidade[Peso_Total > Mochila] = Qualidade[Peso_Total > Mochila] - Penalidade*(Peso_Total[Peso_Total > Mochila] - Mochila)\n",
    "        \n",
    "        rang = np.arange(len(Qualidade))\n",
    "        np.random.shuffle(rang)\n",
    "        Qualidade = Qualidade[rang]\n",
    "        população = população[rang]\n",
    "\n",
    "        resultado = [torneio(Qualidade,i,'max') for i in range(0,len(Qualidade),2)]\n",
    "        vencedores = população[resultado]\n",
    "        \n",
    "        descendentes = Cruzamento(vencedores,Valor,Peso, Mochila,tipo_descendente)\n",
    "        população = Atualização(população,descendentes,Valor,Peso,Mochila,tipo_att)\n",
    "        \n",
    "    Qualidade,Peso_Total = KPS(população,Valor,Peso)\n",
    "\n",
    "    return população[np.max(Qualidade) == Qualidade][0],np.array(Q),np.array(Tempo)"
   ]
  },
  {
   "cell_type": "code",
   "execution_count": 30,
   "metadata": {},
   "outputs": [
    {
     "name": "stdout",
     "output_type": "stream",
     "text": [
      "[1 0 1 0 1 0 0 0]\n"
     ]
    },
    {
     "data": {
      "image/png": "[encoded data removed]",
      "text/plain": [
       "<Figure size 640x480 with 1 Axes>"
      ]
     },
     "metadata": {},
     "output_type": "display_data"
    }
   ],
   "source": [
    "Solução,Q,Tempo = AG_KPS(Valor,Peso,Mochila,'baseado','probabilistico','incremental')\n",
    "print(Solução)\n",
    "plt.plot(Tempo,Q.T[0],c = 'navy',label = 'Média das Aptidões das Soluções')\n",
    "plt.plot(Tempo,Q.T[1],c = 'red',label = 'Maior Aptidão das Soluções')\n",
    "plt.grid()\n",
    "plt.show()"
   ]
  },
  {
   "cell_type": "code",
   "execution_count": null,
   "metadata": {},
   "outputs": [],
   "source": []
  },
  {
   "cell_type": "code",
   "execution_count": 193,
   "metadata": {},
   "outputs": [
    {
     "data": {
      "text/plain": [
       "(75079, 61479)"
      ]
     },
     "execution_count": 193,
     "metadata": {},
     "output_type": "execute_result"
    }
   ],
   "source": [
    "KPS(Solução,Valor,Peso)"
   ]
  },
  {
   "cell_type": "code",
   "execution_count": 194,
   "metadata": {},
   "outputs": [
    {
     "name": "stdout",
     "output_type": "stream",
     "text": [
      "Objetivo:  78608.77273612842\n",
      "Itens na mochila:  [1, 4, 6, 7, 9, 10, 11, 16, 19, 20, 22, 23, 25, 31, 32, 34, 37, 38, 43, 46, 47, 49, 51, 52, 53, 55, 56, 57, 58, 61, 62, 64, 65, 66, 67, 69, 70, 73, 76, 77, 82, 85, 88, 89, 91, 93, 94, 95, 97, 98, 99, 100, 101, 103, 106, 107, 109, 110, 115, 116, 118, 119, 121, 124, 127, 128, 130, 131, 133, 135, 136, 137, 139, 140, 141, 142, 143, 144, 145, 147, 148, 151, 152, 153, 154, 160, 161, 163, 166, 167, 168, 169, 170, 171, 172, 175, 178, 181, 182, 184, 185, 186, 187, 188, 193, 199, 200, 205, 208, 211, 214, 215, 217, 220, 221, 222, 223, 226, 228, 229, 230, 231, 232, 233, 235, 236, 238, 239, 241, 244, 247, 248, 250, 253, 256, 257, 259, 262, 265, 266, 271, 274, 275, 277, 280, 281, 282, 283, 284, 286, 287, 288, 292, 293, 295, 296, 297, 298, 299]\n"
     ]
    }
   ],
   "source": [
    "KPSresposta(Valor, Peso, Mochila)"
   ]
  },
  {
   "cell_type": "code",
   "execution_count": 190,
   "metadata": {},
   "outputs": [
    {
     "data": {
      "text/plain": [
       "array([1, 0, 0, 1, 0, 1, 1, 0, 1, 0, 1, 0, 1, 1, 1, 0, 1, 0, 0, 0, 0, 1,\n",
       "       1, 0, 1, 0, 0, 0, 0, 0, 1, 0, 0, 0, 1, 0, 0, 1, 0, 1, 1, 0, 0, 1,\n",
       "       0, 1, 1, 0, 0, 0, 1, 1, 0, 0, 1, 1, 1, 1, 0, 0, 1, 0, 0, 1, 1, 1,\n",
       "       1, 1, 1, 1, 1, 0, 1, 0, 0, 0, 0, 0, 0, 1, 0, 1, 0, 0, 0, 0, 0, 1,\n",
       "       0, 0, 1, 1, 0, 0, 1, 0, 1, 1, 1, 1, 1, 0, 1, 1, 0, 0, 0, 0, 1, 0,\n",
       "       0, 0, 0, 0, 1, 0, 0, 1, 0, 0, 0, 0, 0, 0, 1, 0, 1, 0, 0, 0, 0, 0,\n",
       "       0, 1, 0, 1, 0, 0, 1, 0, 1, 1, 0, 1, 1, 1, 1, 1, 0, 0, 1, 1, 1, 1,\n",
       "       0, 0, 1, 1, 0, 0, 0, 0, 1, 0, 0, 1, 1, 1, 1, 1, 0, 1, 0, 0, 0, 1,\n",
       "       0, 0, 0, 0, 0, 1, 0, 1, 1, 0, 1, 0, 0, 0, 1, 0, 1, 0, 0, 0, 0, 0,\n",
       "       0, 1, 0, 0, 0, 0, 1, 0, 0, 1, 0, 0, 0, 0, 0, 0, 0, 0, 0, 1, 0, 1,\n",
       "       0, 1, 1, 0, 0, 0, 0, 1, 1, 1, 1, 0, 1, 0, 0, 0, 0, 1, 1, 0, 0, 0,\n",
       "       0, 1, 1, 1, 1, 0, 0, 1, 0, 0, 1, 1, 0, 0, 1, 0, 1, 0, 0, 0, 0, 0,\n",
       "       0, 1, 0, 0, 0, 0, 0, 1, 0, 0, 1, 0, 0, 1, 0, 0, 0, 1, 0, 1, 0, 0,\n",
       "       0, 1, 1, 1, 0, 1, 1, 0, 1, 1, 1, 1, 1, 0])"
      ]
     },
     "execution_count": 190,
     "metadata": {},
     "output_type": "execute_result"
    }
   ],
   "source": [
    "Solução"
   ]
  },
  {
   "cell_type": "code",
   "execution_count": 155,
   "metadata": {},
   "outputs": [
    {
     "data": {
      "text/plain": [
       "array([[14.578125, 20.      ],\n",
       "       [14.765625, 20.      ],\n",
       "       [14.921875, 20.      ],\n",
       "       [15.09375 , 20.      ],\n",
       "       [15.1875  , 20.      ],\n",
       "       [15.328125, 20.      ],\n",
       "       [15.4375  , 20.      ],\n",
       "       [15.5625  , 20.      ],\n",
       "       [15.6875  , 20.      ],\n",
       "       [15.8125  , 20.      ],\n",
       "       [15.921875, 20.      ],\n",
       "       [16.      , 20.      ],\n",
       "       [16.109375, 20.      ],\n",
       "       [16.21875 , 20.      ],\n",
       "       [16.328125, 20.      ],\n",
       "       [16.4375  , 20.      ],\n",
       "       [16.546875, 20.      ],\n",
       "       [16.65625 , 20.      ],\n",
       "       [16.765625, 20.      ],\n",
       "       [16.859375, 20.      ],\n",
       "       [16.953125, 20.      ],\n",
       "       [17.046875, 20.      ],\n",
       "       [17.140625, 20.      ],\n",
       "       [17.234375, 20.      ],\n",
       "       [17.328125, 20.      ],\n",
       "       [17.421875, 20.      ],\n",
       "       [17.515625, 20.      ],\n",
       "       [17.609375, 20.      ],\n",
       "       [17.703125, 20.      ],\n",
       "       [17.796875, 20.      ],\n",
       "       [17.875   , 20.      ],\n",
       "       [17.953125, 20.      ],\n",
       "       [18.03125 , 20.      ],\n",
       "       [18.109375, 20.      ],\n",
       "       [18.1875  , 20.      ],\n",
       "       [18.265625, 20.      ],\n",
       "       [18.34375 , 20.      ],\n",
       "       [18.421875, 20.      ],\n",
       "       [18.5     , 20.      ],\n",
       "       [18.578125, 20.      ],\n",
       "       [18.65625 , 20.      ],\n",
       "       [18.71875 , 20.      ],\n",
       "       [18.78125 , 20.      ],\n",
       "       [18.84375 , 20.      ],\n",
       "       [18.90625 , 20.      ],\n",
       "       [18.96875 , 20.      ],\n",
       "       [19.03125 , 20.      ],\n",
       "       [19.09375 , 20.      ],\n",
       "       [19.15625 , 20.      ],\n",
       "       [19.21875 , 20.      ],\n",
       "       [19.28125 , 20.      ],\n",
       "       [19.328125, 20.      ],\n",
       "       [19.375   , 20.      ],\n",
       "       [19.421875, 20.      ],\n",
       "       [19.46875 , 20.      ],\n",
       "       [19.515625, 20.      ],\n",
       "       [19.5625  , 20.      ],\n",
       "       [19.609375, 20.      ],\n",
       "       [19.65625 , 20.      ],\n",
       "       [19.703125, 20.      ],\n",
       "       [19.75    , 20.      ],\n",
       "       [19.796875, 20.      ],\n",
       "       [19.828125, 20.      ],\n",
       "       [19.859375, 20.      ],\n",
       "       [19.890625, 20.      ],\n",
       "       [19.921875, 20.      ],\n",
       "       [19.953125, 20.      ],\n",
       "       [19.984375, 20.      ],\n",
       "       [20.      , 20.      ]])"
      ]
     },
     "execution_count": 155,
     "metadata": {},
     "output_type": "execute_result"
    }
   ],
   "source": [
    "Q"
   ]
  }
 ],
 "metadata": {
  "kernelspec": {
   "display_name": "Python 3",
   "language": "python",
   "name": "python3"
  },
  "language_info": {
   "codemirror_mode": {
    "name": "ipython",
    "version": 3
   },
   "file_extension": ".py",
   "mimetype": "text/x-python",
   "name": "python",
   "nbconvert_exporter": "python",
   "pygments_lexer": "ipython3",
   "version": "3.10.6"
  },
  "orig_nbformat": 4
 },
 "nbformat": 4,
 "nbformat_minor": 2
}
